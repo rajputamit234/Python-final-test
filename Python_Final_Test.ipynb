{
 "cells": [
  {
   "cell_type": "markdown",
   "id": "6d7ffd7a-1afb-497d-9f74-55802a322945",
   "metadata": {},
   "source": [
    "8. Write a function to Print hollow square pattern"
   ]
  },
  {
   "cell_type": "code",
   "execution_count": 346,
   "id": "8d11f8ee-9761-4c57-9842-7c13fa3697bb",
   "metadata": {},
   "outputs": [
    {
     "name": "stdout",
     "output_type": "stream",
     "text": [
      "* * * * * *\n",
      "*\n",
      "*\n",
      "*\n",
      "*\n",
      "* * * * * * "
     ]
    }
   ],
   "source": [
    "no=6\n",
    "s=no+3\n",
    "for i in range(no-1):\n",
    "    print('*',end=' ')\n",
    "for j in range(no-1):\n",
    "    print('*')\n",
    "    for l in range(0,i,-1):\n",
    "        print('*',end=' ')\n",
    "for k in range(no):\n",
    "    print('*',end=' ')"
   ]
  },
  {
   "cell_type": "markdown",
   "id": "a9fb208c-751f-4827-adeb-44da1ade2313",
   "metadata": {},
   "source": [
    "2. Write a code to print all inbuilt function in Python, and explain any 5 "
   ]
  },
  {
   "cell_type": "code",
   "execution_count": 78,
   "id": "7d503e1d-f0d0-46a9-842d-86a2ba26ce6e",
   "metadata": {},
   "outputs": [
    {
     "name": "stdout",
     "output_type": "stream",
     "text": [
      "['ArithmeticError', 'AssertionError', 'AttributeError', 'BaseException', 'BaseExceptionGroup', 'BlockingIOError', 'BrokenPipeError', 'BufferError', 'BytesWarning', 'ChildProcessError', 'ConnectionAbortedError', 'ConnectionError', 'ConnectionRefusedError', 'ConnectionResetError', 'DeprecationWarning', 'EOFError', 'Ellipsis', 'EncodingWarning', 'EnvironmentError', 'Exception', 'ExceptionGroup', 'False', 'FileExistsError', 'FileNotFoundError', 'FloatingPointError', 'FutureWarning', 'GeneratorExit', 'IOError', 'ImportError', 'ImportWarning', 'IndentationError', 'IndexError', 'InterruptedError', 'IsADirectoryError', 'KeyError', 'KeyboardInterrupt', 'LookupError', 'MemoryError', 'ModuleNotFoundError', 'NameError', 'None', 'NotADirectoryError', 'NotImplemented', 'NotImplementedError', 'OSError', 'OverflowError', 'PendingDeprecationWarning', 'PermissionError', 'ProcessLookupError', 'RecursionError', 'ReferenceError', 'ResourceWarning', 'RuntimeError', 'RuntimeWarning', 'StopAsyncIteration', 'StopIteration', 'SyntaxError', 'SyntaxWarning', 'SystemError', 'SystemExit', 'TabError', 'TimeoutError', 'True', 'TypeError', 'UnboundLocalError', 'UnicodeDecodeError', 'UnicodeEncodeError', 'UnicodeError', 'UnicodeTranslateError', 'UnicodeWarning', 'UserWarning', 'ValueError', 'Warning', 'WindowsError', 'ZeroDivisionError', '__IPYTHON__', '__build_class__', '__debug__', '__doc__', '__import__', '__loader__', '__name__', '__package__', '__spec__', 'abs', 'aiter', 'all', 'anext', 'any', 'ascii', 'bin', 'bool', 'breakpoint', 'bytearray', 'bytes', 'callable', 'chr', 'classmethod', 'compile', 'complex', 'copyright', 'credits', 'delattr', 'dict', 'dir', 'display', 'divmod', 'enumerate', 'eval', 'exec', 'execfile', 'filter', 'float', 'format', 'frozenset', 'get_ipython', 'getattr', 'globals', 'hasattr', 'hash', 'help', 'hex', 'id', 'input', 'int', 'isinstance', 'issubclass', 'iter', 'len', 'license', 'list', 'locals', 'map', 'max', 'memoryview', 'min', 'next', 'object', 'oct', 'open', 'ord', 'pow', 'print', 'property', 'range', 'repr', 'reversed', 'round', 'runfile', 'set', 'setattr', 'slice', 'sorted', 'staticmethod', 'str', 'sum', 'super', 'tuple', 'type', 'vars', 'zip']\n"
     ]
    }
   ],
   "source": [
    "print(dir(__builtins__))"
   ]
  },
  {
   "cell_type": "code",
   "execution_count": 98,
   "id": "18d8f956-5f63-4ea8-8513-4105123a2107",
   "metadata": {},
   "outputs": [
    {
     "name": "stdout",
     "output_type": "stream",
     "text": [
      "Hello World\n",
      "11\n",
      "[2, 2, 3, 3, 5, 48, 149, 544, 544]\n"
     ]
    },
    {
     "data": {
      "text/plain": [
       "['n', 'a', 'm', 'a']"
      ]
     },
     "execution_count": 98,
     "metadata": {},
     "output_type": "execute_result"
    }
   ],
   "source": [
    "# print :- Print is use to print the result \n",
    "print('Hello World')\n",
    "# len :- It is use to check the lenth \n",
    "print(len('Hello World'))\n",
    "# Sorted :-Sorted is use to sort the elements\n",
    "print(sorted([2,544,2,5,3,149,3,544,48,]))\n",
    "# reversed : it is use to reversed the elements\n",
    "a='aman'\n",
    "list(reversed(a))\n",
    "# input :- it is use to get input."
   ]
  },
  {
   "cell_type": "markdown",
   "id": "fff0fbc9-cddb-4518-8c93-342b803da9b6",
   "metadata": {},
   "source": [
    "3. Give example of each data type in Python and explain any 5 methods of \n",
    "each data types."
   ]
  },
  {
   "cell_type": "code",
   "execution_count": 100,
   "id": "dd379781-e7d0-4fda-a1b1-9c7926064c98",
   "metadata": {},
   "outputs": [],
   "source": [
    "a='Python was created by Guido van Rossum, and first released on February 20, 1991.'\n",
    "# string data type is store any string data \n",
    "b=54 # int data type is use to store the single interger value\n",
    "\n",
    "c=120.5 # float data types is use to store the float value\n",
    "d=10+6j # Complex data types is use to store the complex value.\n",
    "e=('ranjan',54,10+6j,5564.54,True,False,{12,321,62}) # tupel data types is store any data types.\n",
    "f=['nitin',312,(21,5,2,4,5),]# list:- we can store any type\n",
    "g=True # bool is use to store the True and False as a boolen value.\n",
    "h={2,654,43,5,3,5,8,2,5,2,2,5,22,2,2,2} # set :- we can store any data types and it is store onlye unique value.\n",
    "i={'key':'value'} # dict :-dictinoary is use to store the value in key position "
   ]
  },
  {
   "cell_type": "markdown",
   "id": "eabc7c73-e33e-4240-9974-658c890dd54a",
   "metadata": {},
   "source": [
    "4. Write a code which takes Name, address, Salary input and convert this \n",
    "into Data-Frame."
   ]
  },
  {
   "cell_type": "code",
   "execution_count": 118,
   "id": "e157497e-7f2e-4ab6-b9ae-a55aaa2a8bce",
   "metadata": {},
   "outputs": [
    {
     "name": "stdin",
     "output_type": "stream",
     "text": [
      "Enter your Name:  Nitin\n",
      "Enter your address:  Noida\n",
      "Enter your salary:  654\n"
     ]
    },
    {
     "name": "stdout",
     "output_type": "stream",
     "text": [
      "{'Name': 'Nitin', 'address': 'Noida', 'Salary': 654}\n"
     ]
    },
    {
     "data": {
      "text/html": [
       "<div>\n",
       "<style scoped>\n",
       "    .dataframe tbody tr th:only-of-type {\n",
       "        vertical-align: middle;\n",
       "    }\n",
       "\n",
       "    .dataframe tbody tr th {\n",
       "        vertical-align: top;\n",
       "    }\n",
       "\n",
       "    .dataframe thead th {\n",
       "        text-align: right;\n",
       "    }\n",
       "</style>\n",
       "<table border=\"1\" class=\"dataframe\">\n",
       "  <thead>\n",
       "    <tr style=\"text-align: right;\">\n",
       "      <th></th>\n",
       "      <th>Name</th>\n",
       "      <th>address</th>\n",
       "      <th>Salary</th>\n",
       "    </tr>\n",
       "  </thead>\n",
       "  <tbody>\n",
       "    <tr>\n",
       "      <th>0</th>\n",
       "      <td>Nitin</td>\n",
       "      <td>Noida</td>\n",
       "      <td>654</td>\n",
       "    </tr>\n",
       "  </tbody>\n",
       "</table>\n",
       "</div>"
      ],
      "text/plain": [
       "    Name address  Salary\n",
       "0  Nitin   Noida     654"
      ]
     },
     "execution_count": 118,
     "metadata": {},
     "output_type": "execute_result"
    }
   ],
   "source": [
    "import pandas as pd\n",
    "data={}\n",
    "for i in range(1):\n",
    "    data['Name']=input('Enter your Name: ')\n",
    "    data['address']=input('Enter your address: ')\n",
    "    data['Salary']=int(input('Enter your salary: '))\n",
    "    print(data)\n",
    "pd.DataFrame(data,index=(0,))"
   ]
  },
  {
   "cell_type": "code",
   "execution_count": 122,
   "id": "e16a7a22-9fca-4ef0-85a3-d9dad9c7ccf0",
   "metadata": {},
   "outputs": [
    {
     "name": "stdout",
     "output_type": "stream",
     "text": [
      "\n",
      "Here is a list of the Python keywords.  Enter any keyword to get more help.\n",
      "\n",
      "False               class               from                or\n",
      "None                continue            global              pass\n",
      "True                def                 if                  raise\n",
      "and                 del                 import              return\n",
      "as                  elif                in                  try\n",
      "assert              else                is                  while\n",
      "async               except              lambda              with\n",
      "await               finally             nonlocal            yield\n",
      "break               for                 not                 \n",
      "\n"
     ]
    }
   ],
   "source": [
    "help('keywords')"
   ]
  },
  {
   "cell_type": "code",
   "execution_count": 124,
   "id": "00b00784-a837-4519-86b4-c441722df2be",
   "metadata": {},
   "outputs": [],
   "source": [
    "# 1. def:- it is use to create a function\n",
    "# 2. import :- import is use to import modules3\n",
    "# 3. and :- it is use to check the  multi contion is true or false. if all contion is use true than the result is true and if any on contion is false\n",
    "# than the result is false.\n",
    "# 4. as :- as is use to Aliasing.\n",
    "# 5. break :- we can use the break keywords to break the loop."
   ]
  },
  {
   "cell_type": "markdown",
   "id": "67faf024-d35b-4d86-9d88-2f7aa444dfbc",
   "metadata": {},
   "source": [
    "6. Create a function which return Prime numbers (n1 to n2) "
   ]
  },
  {
   "cell_type": "code",
   "execution_count": 139,
   "id": "5b1dff65-57a5-4196-aea4-85f490b6cf2a",
   "metadata": {},
   "outputs": [],
   "source": [
    "def check_prime_num_between(num1,num2):\n",
    "    result=[]\n",
    "    for i in range(num1,num2+1):\n",
    "        if i%2==0:\n",
    "            result.append(i)\n",
    "    return result"
   ]
  },
  {
   "cell_type": "code",
   "execution_count": 141,
   "id": "cc7ea6c8-b30b-44e8-a0d5-54a7b92ad12c",
   "metadata": {},
   "outputs": [
    {
     "data": {
      "text/plain": [
       "[10, 12, 14, 16, 18, 20]"
      ]
     },
     "execution_count": 141,
     "metadata": {},
     "output_type": "execute_result"
    }
   ],
   "source": [
    "check_prime_num_between(10,20)"
   ]
  },
  {
   "cell_type": "markdown",
   "id": "8d843f49-6b4d-4a65-9e51-3da14097caed",
   "metadata": {},
   "source": [
    "7. Find common elements b/w 3 given list with for loop, while loop, and without any loop :-) a = [12,3,13,25,467], b = [12,343,13,214,345], \r\n",
    "c = [12,13,235,43,24,36]"
   ]
  },
  {
   "cell_type": "code",
   "execution_count": 184,
   "id": "6fee741c-04fd-4c31-920a-52333f75d4c0",
   "metadata": {},
   "outputs": [
    {
     "name": "stdout",
     "output_type": "stream",
     "text": [
      "Common Elements is:  [12, 13]\n"
     ]
    }
   ],
   "source": [
    "a = [12,3,13,25,467]\n",
    "b = [12,343,13,214,345]\n",
    "c = [12,343,13,214,345] \n",
    "result=[]\n",
    "for i in a:\n",
    "    for j in b:\n",
    "        for k in c:\n",
    "            if i==j==k:\n",
    "                result.append(i)\n",
    "print('Common Elements is: ',result)"
   ]
  },
  {
   "cell_type": "code",
   "execution_count": 182,
   "id": "543814e6-ff98-48ea-85ae-7d69d4d24764",
   "metadata": {},
   "outputs": [
    {
     "name": "stdout",
     "output_type": "stream",
     "text": [
      "{12, 13}\n"
     ]
    }
   ],
   "source": [
    "a = [12,3,13,25,467]\n",
    "b = [12,343,13,214,345]\n",
    "c = [12,343,13,214,345]\n",
    "a=set(a)\n",
    "b=set(b)\n",
    "c=set(c)\n",
    "x= a.intersection(b)\n",
    "common_ele = x.intersection(c)\n",
    "print(common_ele)"
   ]
  },
  {
   "cell_type": "markdown",
   "id": "028c2c47-8b0a-469c-a5c9-3c28b301706c",
   "metadata": {},
   "source": [
    "9. Difference b/w deep copy and shallow copy explain with code example"
   ]
  },
  {
   "cell_type": "code",
   "execution_count": 264,
   "id": "9288f89c-6a0a-4314-8a2a-b750d44a8067",
   "metadata": {},
   "outputs": [],
   "source": [
    "a = {'salary1':1200,'salary2':2345}\n",
    "b=a\n",
    "# deep copy :- It is called deep copy if change any elements than it change deep copy of elemets as same."
   ]
  },
  {
   "cell_type": "code",
   "execution_count": 263,
   "id": "82639ea3-620f-4da2-9533-e7ee4fbee3a1",
   "metadata": {},
   "outputs": [
    {
     "data": {
      "text/plain": [
       "{'salary1': 1500, 'salary2': 2345}"
      ]
     },
     "execution_count": 263,
     "metadata": {},
     "output_type": "execute_result"
    }
   ],
   "source": [
    "a['salary1']=1500\n",
    "b"
   ]
  },
  {
   "cell_type": "code",
   "execution_count": 256,
   "id": "ebf83dde-06ec-4b17-8407-e8b2588cf238",
   "metadata": {},
   "outputs": [
    {
     "name": "stdout",
     "output_type": "stream",
     "text": [
      "{'bank1': 654, 'bank2': 5646}\n"
     ]
    }
   ],
   "source": [
    "# shallow copy:-shallow copy is use to copy.\n",
    "a={'bank1':654,'bank2':5646}\n",
    "b = a.copy()\n",
    "print(b)"
   ]
  },
  {
   "cell_type": "code",
   "execution_count": 257,
   "id": "176af67b-91ea-4b92-b825-abbc5be6db7c",
   "metadata": {},
   "outputs": [
    {
     "data": {
      "text/plain": [
       "{'bank1': 654, 'bank2': 5646}"
      ]
     },
     "execution_count": 257,
     "metadata": {},
     "output_type": "execute_result"
    }
   ],
   "source": [
    "a['bank1']=564564\n",
    "b"
   ]
  },
  {
   "cell_type": "markdown",
   "id": "1da7f417-c1f8-4710-b273-b0a5f4ad22c1",
   "metadata": {},
   "source": [
    "10.Create a function given two words is anagram or not "
   ]
  },
  {
   "cell_type": "code",
   "execution_count": 270,
   "id": "28572df8-3707-4f14-90d6-e5977c8a820e",
   "metadata": {},
   "outputs": [],
   "source": [
    "def check_anagram(word1,word2:'str'):\n",
    "    str1 = {}\n",
    "    str2 = {}\n",
    "    for i in word1:\n",
    "       str1[i] = word1.count(i)\n",
    "    for j in word2:\n",
    "        str2[j] =word2.count(j) \n",
    "    return 'Anagram' if str1==str2 else 'Not anagram'"
   ]
  },
  {
   "cell_type": "code",
   "execution_count": 271,
   "id": "8a5e4f3f-2bb8-4b3a-a75f-c70b7f46fea2",
   "metadata": {},
   "outputs": [
    {
     "data": {
      "text/plain": [
       "'Anagram'"
      ]
     },
     "execution_count": 271,
     "metadata": {},
     "output_type": "execute_result"
    }
   ],
   "source": [
    "check_anagram('listen','silten')"
   ]
  },
  {
   "cell_type": "markdown",
   "id": "5bc59b17-5784-47c6-beac-689ffa4e7a82",
   "metadata": {},
   "source": [
    "11.Write a function to check 3rd highest element of a given numeric list, \n",
    "without using any methods \n"
   ]
  },
  {
   "cell_type": "code",
   "execution_count": null,
   "id": "ebaa0a43-267d-4903-86f6-a4f2b18f1482",
   "metadata": {},
   "outputs": [],
   "source": []
  }
 ],
 "metadata": {
  "kernelspec": {
   "display_name": "Python 3 (ipykernel)",
   "language": "python",
   "name": "python3"
  },
  "language_info": {
   "codemirror_mode": {
    "name": "ipython",
    "version": 3
   },
   "file_extension": ".py",
   "mimetype": "text/x-python",
   "name": "python",
   "nbconvert_exporter": "python",
   "pygments_lexer": "ipython3",
   "version": "3.11.7"
  }
 },
 "nbformat": 4,
 "nbformat_minor": 5
}
